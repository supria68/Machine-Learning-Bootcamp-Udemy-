{
 "cells": [
  {
   "cell_type": "markdown",
   "metadata": {},
   "source": [
    "# Lasso Regression or L1 Regression\n",
    "\n",
    "Lasso regression is a common modeling technique to do regularization, wherein we penalize the number of features in a model in order to only keep the most important features. This can be particularly important when you have a dataset with 100,000+ features.\n",
    "\n",
    "Lasso regression comes with a parameter, lambda, and the higher the lambda, the most feature coefficients are zero.That is, when lambda is 0, Lasso regression produces the same coefficients as a linear regression. When lambda is very very large, all coefficients are zero.\n",
    "\n",
    "This notebook is dedicated to study the effect of lambda on the coefficients, how L1 helps in reducing overfitting and feature selection."
   ]
  },
  {
   "cell_type": "code",
   "execution_count": 1,
   "metadata": {},
   "outputs": [],
   "source": [
    "# Load library\n",
    "import numpy as np\n",
    "import pandas as pd\n",
    "from sklearn.datasets import load_boston\n",
    "import matplotlib.pyplot as plt\n",
    "\n",
    "%matplotlib inline "
   ]
  },
  {
   "cell_type": "markdown",
   "metadata": {},
   "source": [
    "### Loading the Dataset"
   ]
  },
  {
   "cell_type": "code",
   "execution_count": 2,
   "metadata": {},
   "outputs": [
    {
     "data": {
      "text/plain": [
       "((506, 13), (506,))"
      ]
     },
     "execution_count": 2,
     "metadata": {},
     "output_type": "execute_result"
    }
   ],
   "source": [
    "boston = load_boston()\n",
    "X = boston['data']\n",
    "y = boston['target']\n",
    "names = boston['feature_names']\n",
    "\n",
    "X.shape, y.shape"
   ]
  },
  {
   "cell_type": "markdown",
   "metadata": {},
   "source": [
    "### Standardize Features"
   ]
  },
  {
   "cell_type": "code",
   "execution_count": 3,
   "metadata": {},
   "outputs": [],
   "source": [
    "from sklearn.preprocessing import StandardScaler"
   ]
  },
  {
   "cell_type": "code",
   "execution_count": 4,
   "metadata": {},
   "outputs": [],
   "source": [
    "# Standarize features\n",
    "scaler = StandardScaler()\n",
    "X_std = scaler.fit_transform(X)"
   ]
  },
  {
   "cell_type": "code",
   "execution_count": 5,
   "metadata": {},
   "outputs": [
    {
     "data": {
      "text/plain": [
       "(506, 13)"
      ]
     },
     "execution_count": 5,
     "metadata": {},
     "output_type": "execute_result"
    }
   ],
   "source": [
    "X_std.shape"
   ]
  },
  {
   "cell_type": "markdown",
   "metadata": {},
   "source": [
    "### Choosing the best lambda\n",
    "\n",
    "Since lambda is a builtin keyword in python, lets use regParam (regularization parameter) instead."
   ]
  },
  {
   "cell_type": "code",
   "execution_count": 6,
   "metadata": {},
   "outputs": [],
   "source": [
    "from sklearn.linear_model import Lasso\n",
    "\n",
    "def lassoParam(lambdas, X, y):\n",
    "    '''\n",
    "    Takes in a list of lambdas. \n",
    "    Outputs a dataframe containing the coefficients of lasso regressions from each lambda.\n",
    "    '''\n",
    "    df = pd.DataFrame() #empty dataframe\n",
    "   \n",
    "    df['Feature Name'] = names\n",
    "    \n",
    "    for regParam in lambdas:\n",
    "        lasso = Lasso(alpha = regParam)\n",
    "        \n",
    "        # Fit the lasso regression\n",
    "        lasso.fit(X, y)\n",
    "\n",
    "        # Create a column of coefficient values\n",
    "        df['Lambda = %f' % regParam] = lasso.coef_\n",
    "        \n",
    "    return df"
   ]
  },
  {
   "cell_type": "code",
   "execution_count": 7,
   "metadata": {},
   "outputs": [
    {
     "data": {
      "text/html": [
       "<div>\n",
       "<style scoped>\n",
       "    .dataframe tbody tr th:only-of-type {\n",
       "        vertical-align: middle;\n",
       "    }\n",
       "\n",
       "    .dataframe tbody tr th {\n",
       "        vertical-align: top;\n",
       "    }\n",
       "\n",
       "    .dataframe thead th {\n",
       "        text-align: right;\n",
       "    }\n",
       "</style>\n",
       "<table border=\"1\" class=\"dataframe\">\n",
       "  <thead>\n",
       "    <tr style=\"text-align: right;\">\n",
       "      <th></th>\n",
       "      <th>Feature Name</th>\n",
       "      <th>Lambda = 0.000100</th>\n",
       "      <th>Lambda = 0.010000</th>\n",
       "      <th>Lambda = 0.500000</th>\n",
       "      <th>Lambda = 5.000000</th>\n",
       "      <th>Lambda = 10.000000</th>\n",
       "    </tr>\n",
       "  </thead>\n",
       "  <tbody>\n",
       "    <tr>\n",
       "      <th>0</th>\n",
       "      <td>CRIM</td>\n",
       "      <td>-0.927866</td>\n",
       "      <td>-0.900245</td>\n",
       "      <td>-0.115265</td>\n",
       "      <td>-0.000000</td>\n",
       "      <td>-0.0</td>\n",
       "    </tr>\n",
       "    <tr>\n",
       "      <th>1</th>\n",
       "      <td>ZN</td>\n",
       "      <td>1.081086</td>\n",
       "      <td>1.035916</td>\n",
       "      <td>0.000000</td>\n",
       "      <td>0.000000</td>\n",
       "      <td>0.0</td>\n",
       "    </tr>\n",
       "    <tr>\n",
       "      <th>2</th>\n",
       "      <td>INDUS</td>\n",
       "      <td>0.139960</td>\n",
       "      <td>0.046924</td>\n",
       "      <td>-0.000000</td>\n",
       "      <td>-0.000000</td>\n",
       "      <td>-0.0</td>\n",
       "    </tr>\n",
       "    <tr>\n",
       "      <th>3</th>\n",
       "      <td>CHAS</td>\n",
       "      <td>0.681771</td>\n",
       "      <td>0.684152</td>\n",
       "      <td>0.397079</td>\n",
       "      <td>0.000000</td>\n",
       "      <td>0.0</td>\n",
       "    </tr>\n",
       "    <tr>\n",
       "      <th>4</th>\n",
       "      <td>NOX</td>\n",
       "      <td>-2.055877</td>\n",
       "      <td>-1.980551</td>\n",
       "      <td>-0.000000</td>\n",
       "      <td>-0.000000</td>\n",
       "      <td>-0.0</td>\n",
       "    </tr>\n",
       "    <tr>\n",
       "      <th>5</th>\n",
       "      <td>RM</td>\n",
       "      <td>2.674402</td>\n",
       "      <td>2.687312</td>\n",
       "      <td>2.974259</td>\n",
       "      <td>0.477937</td>\n",
       "      <td>0.0</td>\n",
       "    </tr>\n",
       "    <tr>\n",
       "      <th>6</th>\n",
       "      <td>AGE</td>\n",
       "      <td>0.019026</td>\n",
       "      <td>0.000000</td>\n",
       "      <td>-0.000000</td>\n",
       "      <td>-0.000000</td>\n",
       "      <td>-0.0</td>\n",
       "    </tr>\n",
       "    <tr>\n",
       "      <th>7</th>\n",
       "      <td>DIS</td>\n",
       "      <td>-3.103667</td>\n",
       "      <td>-3.058301</td>\n",
       "      <td>-0.170569</td>\n",
       "      <td>0.000000</td>\n",
       "      <td>0.0</td>\n",
       "    </tr>\n",
       "    <tr>\n",
       "      <th>8</th>\n",
       "      <td>RAD</td>\n",
       "      <td>2.660381</td>\n",
       "      <td>2.481844</td>\n",
       "      <td>-0.000000</td>\n",
       "      <td>-0.000000</td>\n",
       "      <td>-0.0</td>\n",
       "    </tr>\n",
       "    <tr>\n",
       "      <th>9</th>\n",
       "      <td>TAX</td>\n",
       "      <td>-2.074993</td>\n",
       "      <td>-1.899442</td>\n",
       "      <td>-0.000000</td>\n",
       "      <td>-0.000000</td>\n",
       "      <td>-0.0</td>\n",
       "    </tr>\n",
       "    <tr>\n",
       "      <th>10</th>\n",
       "      <td>PTRATIO</td>\n",
       "      <td>-2.060372</td>\n",
       "      <td>-2.038645</td>\n",
       "      <td>-1.598449</td>\n",
       "      <td>-0.000000</td>\n",
       "      <td>-0.0</td>\n",
       "    </tr>\n",
       "    <tr>\n",
       "      <th>11</th>\n",
       "      <td>B</td>\n",
       "      <td>0.849183</td>\n",
       "      <td>0.839724</td>\n",
       "      <td>0.543139</td>\n",
       "      <td>0.000000</td>\n",
       "      <td>0.0</td>\n",
       "    </tr>\n",
       "    <tr>\n",
       "      <th>12</th>\n",
       "      <td>LSTAT</td>\n",
       "      <td>-3.743418</td>\n",
       "      <td>-3.730874</td>\n",
       "      <td>-3.666144</td>\n",
       "      <td>-1.484292</td>\n",
       "      <td>-0.0</td>\n",
       "    </tr>\n",
       "  </tbody>\n",
       "</table>\n",
       "</div>"
      ],
      "text/plain": [
       "   Feature Name  Lambda = 0.000100  Lambda = 0.010000  Lambda = 0.500000  \\\n",
       "0          CRIM          -0.927866          -0.900245          -0.115265   \n",
       "1            ZN           1.081086           1.035916           0.000000   \n",
       "2         INDUS           0.139960           0.046924          -0.000000   \n",
       "3          CHAS           0.681771           0.684152           0.397079   \n",
       "4           NOX          -2.055877          -1.980551          -0.000000   \n",
       "5            RM           2.674402           2.687312           2.974259   \n",
       "6           AGE           0.019026           0.000000          -0.000000   \n",
       "7           DIS          -3.103667          -3.058301          -0.170569   \n",
       "8           RAD           2.660381           2.481844          -0.000000   \n",
       "9           TAX          -2.074993          -1.899442          -0.000000   \n",
       "10      PTRATIO          -2.060372          -2.038645          -1.598449   \n",
       "11            B           0.849183           0.839724           0.543139   \n",
       "12        LSTAT          -3.743418          -3.730874          -3.666144   \n",
       "\n",
       "    Lambda = 5.000000  Lambda = 10.000000  \n",
       "0           -0.000000                -0.0  \n",
       "1            0.000000                 0.0  \n",
       "2           -0.000000                -0.0  \n",
       "3            0.000000                 0.0  \n",
       "4           -0.000000                -0.0  \n",
       "5            0.477937                 0.0  \n",
       "6           -0.000000                -0.0  \n",
       "7            0.000000                 0.0  \n",
       "8           -0.000000                -0.0  \n",
       "9           -0.000000                -0.0  \n",
       "10          -0.000000                -0.0  \n",
       "11           0.000000                 0.0  \n",
       "12          -1.484292                -0.0  "
      ]
     },
     "execution_count": 7,
     "metadata": {},
     "output_type": "execute_result"
    }
   ],
   "source": [
    "lassoParam([0.0001, 0.01, 0.5, 5, 10], X_std, y)"
   ]
  },
  {
   "cell_type": "markdown",
   "metadata": {},
   "source": [
    "Notice that as the lambda value increases, more features have a coefficient of 0. From the above dataframe, we see that for lambda = 0.5, only most important features are selected! "
   ]
  },
  {
   "cell_type": "markdown",
   "metadata": {},
   "source": [
    "### Lasso Regression\n",
    "\n",
    "Let's first split the data into training and testing sets. Train the model using training data and evaluate the model using testing sets."
   ]
  },
  {
   "cell_type": "code",
   "execution_count": 8,
   "metadata": {},
   "outputs": [],
   "source": [
    "from sklearn.model_selection import train_test_split\n",
    "\n",
    "X_train, X_test, Y_train, Y_test = train_test_split(X_std, y, test_size = 0.3)"
   ]
  },
  {
   "cell_type": "code",
   "execution_count": 9,
   "metadata": {},
   "outputs": [
    {
     "data": {
      "text/plain": [
       "Lasso(alpha=0.5, copy_X=True, fit_intercept=True, max_iter=1000,\n",
       "      normalize=False, positive=False, precompute=False, random_state=None,\n",
       "      selection='cyclic', tol=0.0001, warm_start=False)"
      ]
     },
     "execution_count": 9,
     "metadata": {},
     "output_type": "execute_result"
    }
   ],
   "source": [
    "# Create lasso regression object\n",
    "lasso = Lasso(alpha = 0.5)\n",
    "\n",
    "# Train the model using the training sets\n",
    "lasso.fit(X_train, Y_train) "
   ]
  },
  {
   "cell_type": "code",
   "execution_count": 10,
   "metadata": {},
   "outputs": [
    {
     "name": "stdout",
     "output_type": "stream",
     "text": [
      "Root Mean Square Error: 5.466162428879723\n"
     ]
    }
   ],
   "source": [
    "# Predict the values using the model\n",
    "Y_lasso_predict = lasso.predict(X_test)\n",
    "\n",
    "# Evaluation\n",
    "from sklearn import metrics\n",
    "\n",
    "RMSE = np.sqrt(metrics.mean_squared_error(Y_lasso_predict,Y_test))\n",
    "print (\"Root Mean Square Error: {}\".format(RMSE))"
   ]
  },
  {
   "cell_type": "code",
   "execution_count": 11,
   "metadata": {},
   "outputs": [
    {
     "data": {
      "text/plain": [
       "Text(0, 0.5, 'actual value')"
      ]
     },
     "execution_count": 11,
     "metadata": {},
     "output_type": "execute_result"
    },
    {
     "data": {
      "image/png": "[encoded data removed]",
      "text/plain": [
       "<Figure size 432x288 with 1 Axes>"
      ]
     },
     "metadata": {
      "needs_background": "light"
     },
     "output_type": "display_data"
    }
   ],
   "source": [
    "# Plotting the result\n",
    "plt.plot(Y_lasso_predict, Y_test, 'bo')\n",
    "plt.plot([0,50], [0,50], 'g-')\n",
    "plt.xlabel('predicted value')\n",
    "plt.ylabel('actual value')"
   ]
  },
  {
   "cell_type": "code",
   "execution_count": null,
   "metadata": {},
   "outputs": [],
   "source": []
  }
 ],
 "metadata": {
  "kernelspec": {
   "display_name": "Python 3",
   "language": "python",
   "name": "python3"
  },
  "language_info": {
   "codemirror_mode": {
    "name": "ipython",
    "version": 3
   },
   "file_extension": ".py",
   "mimetype": "text/x-python",
   "name": "python",
   "nbconvert_exporter": "python",
   "pygments_lexer": "ipython3",
   "version": "3.7.6"
  }
 },
 "nbformat": 4,
 "nbformat_minor": 4
}
